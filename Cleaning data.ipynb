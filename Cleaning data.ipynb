{
 "cells": [
  {
   "cell_type": "markdown",
   "id": "2f62194a",
   "metadata": {},
   "source": [
    "## Dataset used would be runtime.xlsx"
   ]
  },
  {
   "cell_type": "code",
   "execution_count": 3,
   "id": "d5aa2f18",
   "metadata": {},
   "outputs": [],
   "source": [
    "import pandas as pd\n",
    "import numpy as np"
   ]
  },
  {
   "cell_type": "code",
   "execution_count": 4,
   "id": "d2d11f78",
   "metadata": {},
   "outputs": [],
   "source": [
    "run_time = pd.read_excel('run-times.xlsx')"
   ]
  },
  {
   "cell_type": "code",
   "execution_count": 5,
   "id": "c713dd90",
   "metadata": {},
   "outputs": [
    {
     "data": {
      "text/html": [
       "<div>\n",
       "<style scoped>\n",
       "    .dataframe tbody tr th:only-of-type {\n",
       "        vertical-align: middle;\n",
       "    }\n",
       "\n",
       "    .dataframe tbody tr th {\n",
       "        vertical-align: top;\n",
       "    }\n",
       "\n",
       "    .dataframe thead th {\n",
       "        text-align: right;\n",
       "    }\n",
       "</style>\n",
       "<table border=\"1\" class=\"dataframe\">\n",
       "  <thead>\n",
       "    <tr style=\"text-align: right;\">\n",
       "      <th></th>\n",
       "      <th>Name</th>\n",
       "      <th>Run Time</th>\n",
       "      <th>Warm Up Time</th>\n",
       "      <th>Location</th>\n",
       "      <th>Run Date</th>\n",
       "      <th>Race Date</th>\n",
       "      <th>Rain</th>\n",
       "      <th>Fee</th>\n",
       "    </tr>\n",
       "  </thead>\n",
       "  <tbody>\n",
       "    <tr>\n",
       "      <th>0</th>\n",
       "      <td>Alexis</td>\n",
       "      <td>9.2343</td>\n",
       "      <td>3.5</td>\n",
       "      <td>“school”</td>\n",
       "      <td>2023-04-15 12:00:00</td>\n",
       "      <td>2023-06-01</td>\n",
       "      <td>False</td>\n",
       "      <td>$0.00</td>\n",
       "    </tr>\n",
       "    <tr>\n",
       "      <th>1</th>\n",
       "      <td>Alexis</td>\n",
       "      <td>10.3842</td>\n",
       "      <td>3.5</td>\n",
       "      <td>School</td>\n",
       "      <td>2023-04-22 12:30:00</td>\n",
       "      <td>2023-06-01</td>\n",
       "      <td>True</td>\n",
       "      <td>$0.00</td>\n",
       "    </tr>\n",
       "    <tr>\n",
       "      <th>2</th>\n",
       "      <td>Alexis</td>\n",
       "      <td>8.1209</td>\n",
       "      <td>3 min</td>\n",
       "      <td>“the gym”</td>\n",
       "      <td>2023-05-10 15:00:00</td>\n",
       "      <td>2023-06-01</td>\n",
       "      <td>False</td>\n",
       "      <td>$2.50</td>\n",
       "    </tr>\n",
       "    <tr>\n",
       "      <th>3</th>\n",
       "      <td>David</td>\n",
       "      <td>7.2123</td>\n",
       "      <td>2.2</td>\n",
       "      <td>“school”</td>\n",
       "      <td>2023-05-01 15:15:00</td>\n",
       "      <td>2023-06-15</td>\n",
       "      <td>False</td>\n",
       "      <td>$0.00</td>\n",
       "    </tr>\n",
       "    <tr>\n",
       "      <th>4</th>\n",
       "      <td>David</td>\n",
       "      <td>6.8342</td>\n",
       "      <td>2</td>\n",
       "      <td>“gym”</td>\n",
       "      <td>2023-05-10 16:30:00</td>\n",
       "      <td>2023-06-15</td>\n",
       "      <td>False</td>\n",
       "      <td>$2.50</td>\n",
       "    </tr>\n",
       "  </tbody>\n",
       "</table>\n",
       "</div>"
      ],
      "text/plain": [
       "     Name  Run Time Warm Up Time   Location            Run Date  Race Date  \\\n",
       "0  Alexis    9.2343          3.5   “school” 2023-04-15 12:00:00 2023-06-01   \n",
       "1  Alexis   10.3842          3.5     School 2023-04-22 12:30:00 2023-06-01   \n",
       "2  Alexis    8.1209        3 min  “the gym” 2023-05-10 15:00:00 2023-06-01   \n",
       "3   David    7.2123          2.2   “school” 2023-05-01 15:15:00 2023-06-15   \n",
       "4   David    6.8342            2      “gym” 2023-05-10 16:30:00 2023-06-15   \n",
       "\n",
       "    Rain    Fee  \n",
       "0  False  $0.00  \n",
       "1   True  $0.00  \n",
       "2  False  $2.50  \n",
       "3  False  $0.00  \n",
       "4  False  $2.50  "
      ]
     },
     "execution_count": 5,
     "metadata": {},
     "output_type": "execute_result"
    }
   ],
   "source": [
    "run_time.head(5)"
   ]
  },
  {
   "cell_type": "code",
   "execution_count": 6,
   "id": "9720b1bb",
   "metadata": {},
   "outputs": [
    {
     "data": {
      "text/plain": [
       "Name                    object\n",
       "Run Time               float64\n",
       "Warm Up Time            object\n",
       "Location                object\n",
       "Run Date        datetime64[ns]\n",
       "Race Date       datetime64[ns]\n",
       "Rain                      bool\n",
       "Fee                     object\n",
       "dtype: object"
      ]
     },
     "execution_count": 6,
     "metadata": {},
     "output_type": "execute_result"
    }
   ],
   "source": [
    "run_time.dtypes"
   ]
  },
  {
   "cell_type": "markdown",
   "id": "8a71b859",
   "metadata": {},
   "source": [
    "### It looks like some of the data in this are read using spreadsheet and is having different data types than what they actually should be so need to convert on all these to it's right format"
   ]
  },
  {
   "cell_type": "code",
   "execution_count": 8,
   "id": "f18a3bbd",
   "metadata": {},
   "outputs": [
    {
     "name": "stdout",
     "output_type": "stream",
     "text": [
      "<class 'pandas.core.frame.DataFrame'>\n",
      "RangeIndex: 5 entries, 0 to 4\n",
      "Data columns (total 8 columns):\n",
      " #   Column        Non-Null Count  Dtype         \n",
      "---  ------        --------------  -----         \n",
      " 0   Name          5 non-null      object        \n",
      " 1   Run Time      5 non-null      float64       \n",
      " 2   Warm Up Time  5 non-null      object        \n",
      " 3   Location      5 non-null      object        \n",
      " 4   Run Date      5 non-null      datetime64[ns]\n",
      " 5   Race Date     5 non-null      datetime64[ns]\n",
      " 6   Rain          5 non-null      bool          \n",
      " 7   Fee           5 non-null      object        \n",
      "dtypes: bool(1), datetime64[ns](2), float64(1), object(4)\n",
      "memory usage: 413.0+ bytes\n"
     ]
    }
   ],
   "source": [
    "run_time.info() #another form in which datatypes can be read in a more precise way."
   ]
  },
  {
   "cell_type": "code",
   "execution_count": null,
   "id": "26a6ce44",
   "metadata": {},
   "outputs": [],
   "source": []
  }
 ],
 "metadata": {
  "kernelspec": {
   "display_name": "Python 3 (ipykernel)",
   "language": "python",
   "name": "python3"
  },
  "language_info": {
   "codemirror_mode": {
    "name": "ipython",
    "version": 3
   },
   "file_extension": ".py",
   "mimetype": "text/x-python",
   "name": "python",
   "nbconvert_exporter": "python",
   "pygments_lexer": "ipython3",
   "version": "3.9.13"
  }
 },
 "nbformat": 4,
 "nbformat_minor": 5
}
